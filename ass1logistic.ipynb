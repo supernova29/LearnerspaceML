{
 "cells": [
  {
   "cell_type": "code",
   "execution_count": 60,
   "metadata": {},
   "outputs": [],
   "source": [
    "#import libraries\n",
    "#write your code.\n",
    "import numpy as np\n",
    "import math\n",
    "import pandas as pd\n",
    "import matplotlib.pyplot as plt\n",
    "from sklearn.model_selection import train_test_split\n",
    "from sklearn.linear_model import LogisticRegression\n",
    "from sklearn.metrics import accuracy_score, confusion_matrix,classification_report\n",
    "\n",
    "\n"
   ]
  },
  {
   "cell_type": "code",
   "execution_count": 61,
   "metadata": {},
   "outputs": [],
   "source": [
    "#load data\n",
    "\n",
    "#write your code\n",
    "#data_path=('/content/data 1 - data.csv')\n",
    "#data=pd.read_csv(data_path)\n",
    "data=np.loadtxt(\"data (1).txt\",delimiter=',')\n",
    "X=data[:,:2]\n",
    "y=data[:,2]\n",
    "X_train=X\n",
    "y_train=y\n",
    "\n",
    "X_train,X_val,y_train,y_val = train_test_split(X,y,random_state=0,test_size=0.2)"
   ]
  },
  {
   "cell_type": "code",
   "execution_count": 62,
   "metadata": {},
   "outputs": [],
   "source": [
    "#plot data to visualise\n",
    "def plot_data(X, y, positive_label=\"y=1\", negative_label=\"y=0\"):\n",
    "#write your code\n",
    "    pos = y == 1\n",
    "    neg = y == 0\n",
    "    plt.plot(X[pos, 0], X[pos, 1], 'rx', label=positive_label)\n",
    "    plt.plot(X[neg, 0], X[neg, 1], 'go', label=negative_label)\n",
    "\n",
    "    #plt.scatter(X[pos][:, 1], X[pos][:, 0], marker='x', c='r', label=positive_label)\n",
    "    #plt.scatter(X[neg][:, 1], X[neg][:, 0], marker='o', c='b', label=negative_label)\n",
    "\n"
   ]
  },
  {
   "cell_type": "code",
   "execution_count": 63,
   "metadata": {},
   "outputs": [
    {
     "data": {
      "image/png": "[encoded data removed]",
      "text/plain": [
       "<Figure size 640x480 with 1 Axes>"
      ]
     },
     "metadata": {},
     "output_type": "display_data"
    }
   ],
   "source": [
    "#test\n",
    "plot_data(X_train, y_train[:], positive_label=\"Accepted\", negative_label=\"Rejected\")\n",
    "\n",
    "\n",
    "plt.xlabel('Test 2')\n",
    "plt.ylabel('Test 1')\n",
    "plt.legend(loc=\"upper right\")\n",
    "plt.show()\n"
   ]
  },
  {
   "cell_type": "code",
   "execution_count": 64,
   "metadata": {},
   "outputs": [],
   "source": [
    "#feature mapping\n",
    "def map_feature(X1,X2):\n",
    "#write your code\n",
    "  X1=np.atleast_1d(X1)\n",
    "  X2=np.atleast_1d(X2)\n",
    "  degree=6\n",
    "  out=[]\n",
    "  for i in range(1,degree+1):\n",
    "    for j in range(i+1):\n",
    "      out.append((X1**(i-j) * (X2**j)))\n",
    "  return np.stack(out,axis=1)"
   ]
  },
  {
   "cell_type": "code",
   "execution_count": 65,
   "metadata": {},
   "outputs": [
    {
     "name": "stdout",
     "output_type": "stream",
     "text": [
      "Original shape of data: (94, 2)\n",
      "Shape after feature mapping: (94, 27)\n"
     ]
    }
   ],
   "source": [
    "print(\"Original shape of data:\", X_train.shape)\n",
    "\n",
    "mapped_X =  map_feature(X_train[:, 0], X_train[:, 1])\n",
    "print(\"Shape after feature mapping:\", mapped_X.shape)\n",
    "\n",
    "#training\n",
    "#model = LogisticRegression()\n",
    "#model.fit(mapped_X, y_train)\n",
    "\n",
    "#validating\n",
    "#mapped_X_val = map_feature(X_val[:, 0], X_val[:, 1])\n",
    "#val_predictions = model.predict(mapped_X_val)\n",
    "\n",
    "#accuracy = accuracy_score(y_val, val_predictions)\n",
    "#print(f'Accuracy: {accuracy:.2f}')\n",
    "#print('Confusion Matrix:')\n",
    "#print(confusion_matrix(y_val, val_predictions))\n",
    "#print('Classification Report:')\n",
    "#print(classification_report(y_val, val_predictions))"
   ]
  },
  {
   "cell_type": "code",
   "execution_count": 66,
   "metadata": {},
   "outputs": [],
   "source": [
    "# @title DO NOT EDIT THIS CODE\n",
    "def sigmoid_test(target):\n",
    "    assert np.isclose(target(3.0), 0.9525741268224334), \"Failed for scalar input\"\n",
    "    assert np.allclose(target(np.array([2.5, 0])), [0.92414182, 0.5]), \"Failed for 1D array\"\n",
    "    assert np.allclose(target(np.array([[2.5, -2.5], [0, 1]])),\n",
    "                       [[0.92414182, 0.07585818], [0.5, 0.73105858]]), \"Failed for 2D array\"\n",
    "    print('\\033[92mTests passed!')"
   ]
  },
  {
   "cell_type": "code",
   "execution_count": 67,
   "metadata": {},
   "outputs": [],
   "source": [
    "#sigmoid function\n",
    "def sigmoid(z):\n",
    "#write your code\n",
    "    return 1 / (1 + np.exp(-z))\n"
   ]
  },
  {
   "cell_type": "code",
   "execution_count": 68,
   "metadata": {},
   "outputs": [
    {
     "name": "stdout",
     "output_type": "stream",
     "text": [
      "\u001b[92mTests passed!\n"
     ]
    }
   ],
   "source": [
    "sigmoid_test(sigmoid)"
   ]
  },
  {
   "cell_type": "code",
   "execution_count": 69,
   "metadata": {},
   "outputs": [],
   "source": [
    "# @title DO NOT EDIT THIS CODE\n",
    "import math\n",
    "def compute_cost_test(target):\n",
    "    X = np.array([[0, 0, 0, 0]]).T\n",
    "    y = np.array([0, 0, 0, 0])\n",
    "    w = np.array([0])\n",
    "    b = 1\n",
    "    result = target(X, y, w, b)\n",
    "    if math.isinf(result):\n",
    "        raise ValueError(\"Did you get the sigmoid of z_wb?\")\n",
    "\n",
    "    np.random.seed(17)\n",
    "    X = np.random.randn(5, 2)\n",
    "    y = np.array([1, 0, 0, 1, 1])\n",
    "    w = np.random.randn(2)\n",
    "    b = 0\n",
    "    result = target(X, y, w, b)\n",
    "    assert np.isclose(result, 2.15510667), f\"Wrong output. Expected: {2.15510667} got: {result}\"\n",
    "\n",
    "    X = np.random.randn(4, 3)\n",
    "    y = np.array([1, 1, 0, 0])\n",
    "    w = np.random.randn(3)\n",
    "    b = 0\n",
    "\n",
    "    result = target(X, y, w, b)\n",
    "    assert np.isclose(result, 0.80709376), f\"Wrong output. Expected: {0.80709376} got: {result}\"\n",
    "\n",
    "    X = np.random.randn(4, 3)\n",
    "    y = np.array([1, 0,1, 0])\n",
    "    w = np.random.randn(3)\n",
    "    b = 3\n",
    "    result = target(X, y, w, b)\n",
    "    assert np.isclose(result, 0.4529660647), f\"Wrong output. Expected: {0.4529660647} got: {result}. Did you inizialized z_wb = b?\"\n",
    "\n",
    "    print('\\033[92mTests passed!')"
   ]
  },
  {
   "cell_type": "code",
   "execution_count": 70,
   "metadata": {},
   "outputs": [],
   "source": [
    "#computing cost\n",
    "def compute_cost(X,y,w,b,lambda_=1):\n",
    "#write your code\n",
    "    m = X.shape[0]\n",
    "    total_cost = 0\n",
    "\n",
    "    for i in range(m):\n",
    "        z = np.dot(X[i], w) + b\n",
    "        f_wb_i = sigmoid(z)\n",
    "        total_cost += -y[i] * np.log(f_wb_i) - (1 - y[i]) * np.log(1 - f_wb_i)\n",
    "\n",
    "\n",
    "\n",
    "    total_cost = (total_cost / m)\n",
    "\n",
    "    return total_cost"
   ]
  },
  {
   "cell_type": "code",
   "execution_count": 71,
   "metadata": {},
   "outputs": [
    {
     "name": "stdout",
     "output_type": "stream",
     "text": [
      "Cost at test w,b: 11.723\n",
      "\u001b[92mTests passed!\n"
     ]
    }
   ],
   "source": [
    "test_w = np.array([0.2, 0.2])\n",
    "test_b = -24.\n",
    "cost = compute_cost(X_train, y_train, test_w, test_b)\n",
    "\n",
    "print('Cost at test w,b: {:.3f}'.format(cost))\n",
    "\n",
    "\n",
    "# test\n",
    "compute_cost_test(compute_cost)"
   ]
  },
  {
   "cell_type": "code",
   "execution_count": 72,
   "metadata": {},
   "outputs": [],
   "source": [
    "#compute regularised cost\n",
    "def compute_cost_reg(X, y, w, b, lambda_ = 1):\n",
    "  #write your code\n",
    "    m = X.shape[0]\n",
    "    total_cost = compute_cost(X, y, w, b)\n",
    "\n",
    "    reg_cost = (lambda_ / (2 * m)) * np.sum(np.square(w))\n",
    "    total_cost += reg_cost\n",
    "\n",
    "    return total_cost"
   ]
  },
  {
   "cell_type": "code",
   "execution_count": 73,
   "metadata": {},
   "outputs": [],
   "source": [
    "# @title DO NOT EDIT THIS CODE\n",
    "def compute_cost_reg_test(target):\n",
    "    np.random.seed(1)\n",
    "    w = np.random.randn(3)\n",
    "    b = 0.4\n",
    "    X = np.random.randn(6, 3)\n",
    "    y = np.array([0, 1, 1, 0, 1, 1])\n",
    "    lambda_ = 0.1\n",
    "    expected_output = target(X, y, w, b, lambda_)\n",
    "\n",
    "    assert np.isclose(expected_output, 0.5469746792761936), f\"Wrong output. Expected: {0.5469746792761936} got:{expected_output}\"\n",
    "\n",
    "    w = np.random.randn(5)\n",
    "    b = -0.6\n",
    "    X = np.random.randn(8, 5)\n",
    "    y = np.array([1, 0, 1, 0, 0, 1, 0, 1])\n",
    "    lambda_ = 0.01\n",
    "    output = target(X, y, w, b, lambda_)\n",
    "    assert np.isclose(output, 1.2608591964119995), f\"Wrong output. Expected: {1.2608591964119995} got:{output}\"\n",
    "\n",
    "    w = np.array([2, 2, 2, 2, 2])\n",
    "    b = 0\n",
    "    X = np.zeros((8, 5))\n",
    "    y = np.array([0.5] * 8)\n",
    "    lambda_ = 3\n",
    "    output = target(X, y, w, b, lambda_)\n",
    "    expected = -np.log(0.5) + 3. / (2. * 8.) * 20.\n",
    "    assert np.isclose(output, expected), f\"Wrong output. Expected: {expected} got:{output}\"\n",
    "\n",
    "    print('\\033[92mAll tests passed!')"
   ]
  },
  {
   "cell_type": "code",
   "execution_count": 74,
   "metadata": {},
   "outputs": [
    {
     "name": "stdout",
     "output_type": "stream",
     "text": [
      "Regularised cost : 0.6609996549505682\n",
      "\u001b[92mAll tests passed!\n"
     ]
    }
   ],
   "source": [
    "X_mapped = map_feature(X_train[:, 0], X_train[:, 1])\n",
    "np.random.seed(1)\n",
    "initial_w = np.random.rand(X_mapped.shape[1]) - 0.5\n",
    "initial_b = 0.5\n",
    "lambda_ = 0.5\n",
    "cost = compute_cost_reg(X_mapped, y_train, initial_w, initial_b, lambda_)\n",
    "\n",
    "print(\"Regularised cost :\", cost)\n",
    "\n",
    "#test\n",
    "compute_cost_reg_test(compute_cost_reg)"
   ]
  },
  {
   "cell_type": "code",
   "execution_count": 75,
   "metadata": {},
   "outputs": [],
   "source": [
    "# @title DO NOT EDIT THIS CODE\n",
    "def compute_gradient_test(target):\n",
    "    np.random.seed(1)\n",
    "    X = np.random.randn(7, 3)\n",
    "    y = np.array([1, 0, 1, 0, 1, 1, 0])\n",
    "    test_w = np.array([1, 0.5, -0.35])\n",
    "    test_b = 1.7\n",
    "    dj_db, dj_dw  = target(X, y, test_w, test_b)\n",
    "\n",
    "    assert np.isclose(dj_db, 0.28936094), f\"Wrong value for dj_db. Expected: {0.28936094} got: {dj_db}\"\n",
    "    assert dj_dw.shape == test_w.shape, f\"Wrong shape for dj_dw. Expected: {test_w.shape} got: {dj_dw.shape}\"\n",
    "    assert np.allclose(dj_dw, [-0.11999166, 0.41498775, -0.71968405]), f\"Wrong values for dj_dw. Got: {dj_dw}\"\n",
    "\n",
    "    print('\\033[92mTests passed!')"
   ]
  },
  {
   "cell_type": "code",
   "execution_count": 76,
   "metadata": {},
   "outputs": [],
   "source": [
    "#compute gradient\n",
    "def compute_gradient(X, y, w, b, lambda_=None):\n",
    "#write your code\n",
    "    m, n = X.shape\n",
    "    dj_dw = np.zeros(w.shape)\n",
    "    dj_db = 0.\n",
    "\n",
    "    for i in range(m):\n",
    "        z = np.dot(X[i], w) + b\n",
    "        f_wb_i = sigmoid(z)\n",
    "        error = f_wb_i - y[i]\n",
    "        dj_db += error\n",
    "        for j in range(n):\n",
    "            dj_dw[j] += error * X[i, j]\n",
    "\n",
    "    dj_dw = dj_dw / m\n",
    "    dj_db = dj_db / m\n",
    "\n",
    "\n",
    "    return dj_db,dj_dw"
   ]
  },
  {
   "cell_type": "code",
   "execution_count": 77,
   "metadata": {},
   "outputs": [
    {
     "name": "stdout",
     "output_type": "stream",
     "text": [
      "dj_db at test_w: -0.4893617020916176\n",
      "dj_dw at test_w: [-0.012709382973788362, -0.09574437233818134]\n",
      "\u001b[92mTests passed!\n"
     ]
    }
   ],
   "source": [
    "test_w = np.array([ 0.2, -0.5])\n",
    "test_b = -24\n",
    "dj_db, dj_dw  = compute_gradient(X_train, y_train, test_w, test_b)\n",
    "\n",
    "print('dj_db at test_w:', dj_db)\n",
    "print('dj_dw at test_w:', dj_dw.tolist())\n",
    "\n",
    "# test\n",
    "compute_gradient_test(compute_gradient)"
   ]
  },
  {
   "cell_type": "code",
   "execution_count": 78,
   "metadata": {},
   "outputs": [],
   "source": [
    "#compute regularised gradient\n",
    "def compute_gradient_reg(X, y, w, b, lambda_=1):\n",
    "#write your code\n",
    "    m, n = X.shape\n",
    "    dj_db, dj_dw = compute_gradient(X, y, w, b)\n",
    "\n",
    "    dj_dw += (lambda_ / m) * w\n",
    "\n",
    "\n",
    "    return dj_db,dj_dw"
   ]
  },
  {
   "cell_type": "code",
   "execution_count": 79,
   "metadata": {},
   "outputs": [],
   "source": [
    "# @title DO NOT EDIT THIS CODE\n",
    "def compute_gradient_reg_test(target):\n",
    "    np.random.seed(1)\n",
    "    w = np.random.randn(5)\n",
    "    b = 0.2\n",
    "    X = np.random.randn(7, 5)\n",
    "    y = np.array([0, 1, 1, 0, 1, 1, 0])\n",
    "    lambda_ = 0.1\n",
    "    expected1 = (-0.1506447567869257, np.array([ 0.19530838, -0.00632206,  0.19687367,  0.15741161,  0.02791437]))\n",
    "    dj_db, dj_dw = target(X, y, w, b, lambda_)\n",
    "\n",
    "    assert np.isclose(dj_db, expected1[0]), f\"Wrong dj_db. Expected: {expected1[0]} got: {dj_db}\"\n",
    "    assert np.allclose(dj_dw, expected1[1]), f\"Wrong dj_dw. Expected: {expected1[1]} got: {dj_dw}\"\n",
    "\n",
    "\n",
    "    w = np.random.randn(7)\n",
    "    b = 0\n",
    "    X = np.random.randn(7, 7)\n",
    "    y = np.array([1, 0, 0, 0, 1, 1, 0])\n",
    "    lambda_ = 0\n",
    "    expected2 = (0.02660329857573818, np.array([ 0.23567643, -0.06921029, -0.19705212, -0.0002884 ,  0.06490588,\n",
    "        0.26948175,  0.10777992]))\n",
    "    dj_db, dj_dw = target(X, y, w, b, lambda_)\n",
    "    assert np.isclose(dj_db, expected2[0]), f\"Wrong dj_db. Expected: {expected2[0]} got: {dj_db}\"\n",
    "    assert np.allclose(dj_dw, expected2[1]), f\"Wrong dj_dw. Expected: {expected2[1]} got: {dj_dw}\"\n",
    "\n",
    "    print('\\033[92mTests passed!')"
   ]
  },
  {
   "cell_type": "code",
   "execution_count": 80,
   "metadata": {},
   "outputs": [
    {
     "name": "stdout",
     "output_type": "stream",
     "text": [
      "dj_db: 0.07129263820614946\n",
      "\u001b[92mTests passed!\n"
     ]
    }
   ],
   "source": [
    "X_mapped = map_feature(X_train[:, 0], X_train[:, 1])\n",
    "np.random.seed(1)\n",
    "initial_w  = np.random.rand(X_mapped.shape[1]) - 0.5\n",
    "initial_b = 0.5\n",
    "\n",
    "lambda_ = 0.5\n",
    "dj_db, dj_dw = compute_gradient_reg(X_mapped, y_train, initial_w, initial_b, lambda_)\n",
    "\n",
    "print(f\"dj_db: {dj_db}\" )\n",
    "#test\n",
    "compute_gradient_reg_test(compute_gradient_reg)"
   ]
  },
  {
   "cell_type": "code",
   "execution_count": 81,
   "metadata": {},
   "outputs": [
    {
     "name": "stdout",
     "output_type": "stream",
     "text": [
      "Iteration    0: Cost   0.7189\n",
      "Iteration  100: Cost   0.6675\n",
      "Iteration  200: Cost   0.6394\n",
      "Iteration  300: Cost   0.6233\n",
      "Iteration  400: Cost   0.6133\n",
      "Iteration  500: Cost   0.6064\n",
      "Iteration  600: Cost   0.6011\n",
      "Iteration  700: Cost   0.5968\n",
      "Iteration  800: Cost   0.5929\n",
      "Iteration  900: Cost   0.5893\n",
      "Iteration 1000: Cost   0.5860\n",
      "Iteration 1100: Cost   0.5828\n",
      "Iteration 1200: Cost   0.5797\n",
      "Iteration 1300: Cost   0.5766\n",
      "Iteration 1400: Cost   0.5737\n",
      "Iteration 1500: Cost   0.5708\n",
      "Iteration 1600: Cost   0.5680\n",
      "Iteration 1700: Cost   0.5652\n",
      "Iteration 1800: Cost   0.5625\n",
      "Iteration 1900: Cost   0.5599\n",
      "Iteration 2000: Cost   0.5573\n",
      "Iteration 2100: Cost   0.5548\n",
      "Iteration 2200: Cost   0.5523\n",
      "Iteration 2300: Cost   0.5498\n",
      "Iteration 2400: Cost   0.5475\n",
      "Iteration 2500: Cost   0.5451\n",
      "Iteration 2600: Cost   0.5428\n",
      "Iteration 2700: Cost   0.5406\n",
      "Iteration 2800: Cost   0.5384\n",
      "Iteration 2900: Cost   0.5362\n",
      "Iteration 3000: Cost   0.5341\n",
      "Iteration 3100: Cost   0.5320\n",
      "Iteration 3200: Cost   0.5300\n",
      "Iteration 3300: Cost   0.5279\n",
      "Iteration 3400: Cost   0.5260\n",
      "Iteration 3500: Cost   0.5240\n",
      "Iteration 3600: Cost   0.5221\n",
      "Iteration 3700: Cost   0.5202\n",
      "Iteration 3800: Cost   0.5184\n",
      "Iteration 3900: Cost   0.5166\n",
      "Iteration 4000: Cost   0.5148\n",
      "Iteration 4100: Cost   0.5131\n",
      "Iteration 4200: Cost   0.5113\n",
      "Iteration 4300: Cost   0.5096\n",
      "Iteration 4400: Cost   0.5080\n",
      "Iteration 4500: Cost   0.5063\n",
      "Iteration 4600: Cost   0.5047\n",
      "Iteration 4700: Cost   0.5031\n",
      "Iteration 4800: Cost   0.5016\n",
      "Iteration 4900: Cost   0.5000\n",
      "Iteration 5000: Cost   0.4985\n",
      "Iteration 5100: Cost   0.4970\n",
      "Iteration 5200: Cost   0.4955\n",
      "Iteration 5300: Cost   0.4941\n",
      "Iteration 5400: Cost   0.4926\n",
      "Iteration 5500: Cost   0.4912\n",
      "Iteration 5600: Cost   0.4898\n",
      "Iteration 5700: Cost   0.4885\n",
      "Iteration 5800: Cost   0.4871\n",
      "Iteration 5900: Cost   0.4858\n",
      "Iteration 6000: Cost   0.4845\n",
      "Iteration 6100: Cost   0.4832\n",
      "Iteration 6200: Cost   0.4819\n",
      "Iteration 6300: Cost   0.4807\n",
      "Iteration 6400: Cost   0.4794\n",
      "Iteration 6500: Cost   0.4782\n",
      "Iteration 6600: Cost   0.4770\n",
      "Iteration 6700: Cost   0.4758\n",
      "Iteration 6800: Cost   0.4746\n",
      "Iteration 6900: Cost   0.4735\n",
      "Iteration 7000: Cost   0.4723\n",
      "Iteration 7100: Cost   0.4712\n",
      "Iteration 7200: Cost   0.4701\n",
      "Iteration 7300: Cost   0.4690\n",
      "Iteration 7400: Cost   0.4679\n",
      "Iteration 7500: Cost   0.4668\n",
      "Iteration 7600: Cost   0.4657\n",
      "Iteration 7700: Cost   0.4647\n",
      "Iteration 7800: Cost   0.4636\n",
      "Iteration 7900: Cost   0.4626\n",
      "Iteration 8000: Cost   0.4616\n",
      "Iteration 8100: Cost   0.4606\n",
      "Iteration 8200: Cost   0.4596\n",
      "Iteration 8300: Cost   0.4587\n",
      "Iteration 8400: Cost   0.4577\n",
      "Iteration 8500: Cost   0.4567\n",
      "Iteration 8600: Cost   0.4558\n",
      "Iteration 8700: Cost   0.4549\n",
      "Iteration 8800: Cost   0.4540\n",
      "Iteration 8900: Cost   0.4530\n",
      "Iteration 9000: Cost   0.4522\n",
      "Iteration 9100: Cost   0.4513\n",
      "Iteration 9200: Cost   0.4504\n",
      "Iteration 9300: Cost   0.4495\n",
      "Iteration 9400: Cost   0.4487\n",
      "Iteration 9500: Cost   0.4478\n",
      "Iteration 9600: Cost   0.4470\n",
      "Iteration 9700: Cost   0.4461\n",
      "Iteration 9800: Cost   0.4453\n",
      "Iteration 9900: Cost   0.4445\n",
      "Iteration 10000: Cost   0.4437\n",
      "Iteration 10100: Cost   0.4429\n",
      "Iteration 10200: Cost   0.4421\n",
      "Iteration 10300: Cost   0.4414\n",
      "Iteration 10400: Cost   0.4406\n",
      "Iteration 10500: Cost   0.4398\n",
      "Iteration 10600: Cost   0.4391\n",
      "Iteration 10700: Cost   0.4383\n",
      "Iteration 10800: Cost   0.4376\n",
      "Iteration 10900: Cost   0.4369\n",
      "Iteration 11000: Cost   0.4361\n",
      "Iteration 11100: Cost   0.4354\n",
      "Iteration 11200: Cost   0.4347\n",
      "Iteration 11300: Cost   0.4340\n",
      "Iteration 11400: Cost   0.4333\n",
      "Iteration 11500: Cost   0.4326\n",
      "Iteration 11600: Cost   0.4320\n",
      "Iteration 11700: Cost   0.4313\n",
      "Iteration 11800: Cost   0.4306\n",
      "Iteration 11900: Cost   0.4300\n",
      "Iteration 12000: Cost   0.4293\n",
      "Iteration 12100: Cost   0.4287\n",
      "Iteration 12200: Cost   0.4280\n",
      "Iteration 12300: Cost   0.4274\n",
      "Iteration 12400: Cost   0.4268\n",
      "Iteration 12500: Cost   0.4261\n",
      "Iteration 12600: Cost   0.4255\n",
      "Iteration 12700: Cost   0.4249\n",
      "Iteration 12800: Cost   0.4243\n",
      "Iteration 12900: Cost   0.4237\n",
      "Iteration 13000: Cost   0.4231\n",
      "Iteration 13100: Cost   0.4225\n",
      "Iteration 13200: Cost   0.4220\n",
      "Iteration 13300: Cost   0.4214\n",
      "Iteration 13400: Cost   0.4208\n",
      "Iteration 13500: Cost   0.4202\n",
      "Iteration 13600: Cost   0.4197\n",
      "Iteration 13700: Cost   0.4191\n",
      "Iteration 13800: Cost   0.4186\n",
      "Iteration 13900: Cost   0.4180\n",
      "Iteration 14000: Cost   0.4175\n",
      "Iteration 14100: Cost   0.4170\n",
      "Iteration 14200: Cost   0.4164\n",
      "Iteration 14300: Cost   0.4159\n",
      "Iteration 14400: Cost   0.4154\n",
      "Iteration 14500: Cost   0.4149\n",
      "Iteration 14600: Cost   0.4143\n",
      "Iteration 14700: Cost   0.4138\n",
      "Iteration 14800: Cost   0.4133\n",
      "Iteration 14900: Cost   0.4128\n",
      "Iteration 15000: Cost   0.4123\n",
      "Iteration 15100: Cost   0.4118\n",
      "Iteration 15200: Cost   0.4114\n",
      "Iteration 15300: Cost   0.4109\n",
      "Iteration 15400: Cost   0.4104\n",
      "Iteration 15500: Cost   0.4099\n",
      "Iteration 15600: Cost   0.4095\n",
      "Iteration 15700: Cost   0.4090\n",
      "Iteration 15800: Cost   0.4085\n",
      "Iteration 15900: Cost   0.4081\n",
      "Iteration 16000: Cost   0.4076\n",
      "Iteration 16100: Cost   0.4072\n",
      "Iteration 16200: Cost   0.4067\n",
      "Iteration 16300: Cost   0.4063\n",
      "Iteration 16400: Cost   0.4058\n",
      "Iteration 16500: Cost   0.4054\n",
      "Iteration 16600: Cost   0.4050\n",
      "Iteration 16700: Cost   0.4045\n",
      "Iteration 16800: Cost   0.4041\n",
      "Iteration 16900: Cost   0.4037\n",
      "Iteration 17000: Cost   0.4033\n",
      "Iteration 17100: Cost   0.4028\n",
      "Iteration 17200: Cost   0.4024\n",
      "Iteration 17300: Cost   0.4020\n",
      "Iteration 17400: Cost   0.4016\n",
      "Iteration 17500: Cost   0.4012\n",
      "Iteration 17600: Cost   0.4008\n",
      "Iteration 17700: Cost   0.4004\n",
      "Iteration 17800: Cost   0.4000\n",
      "Iteration 17900: Cost   0.3996\n",
      "Iteration 18000: Cost   0.3993\n",
      "Iteration 18100: Cost   0.3989\n",
      "Iteration 18200: Cost   0.3985\n",
      "Iteration 18300: Cost   0.3981\n",
      "Iteration 18400: Cost   0.3977\n",
      "Iteration 18500: Cost   0.3974\n",
      "Iteration 18600: Cost   0.3970\n",
      "Iteration 18700: Cost   0.3966\n",
      "Iteration 18800: Cost   0.3963\n",
      "Iteration 18900: Cost   0.3959\n",
      "Iteration 19000: Cost   0.3955\n",
      "Iteration 19100: Cost   0.3952\n",
      "Iteration 19200: Cost   0.3948\n",
      "Iteration 19300: Cost   0.3945\n",
      "Iteration 19400: Cost   0.3941\n",
      "Iteration 19500: Cost   0.3938\n",
      "Iteration 19600: Cost   0.3934\n",
      "Iteration 19700: Cost   0.3931\n",
      "Iteration 19800: Cost   0.3928\n",
      "Iteration 19900: Cost   0.3924\n"
     ]
    }
   ],
   "source": [
    "\n",
    "def gradient_descent(X, y, w, b, cost_function, gradient_function, alpha, num_iterations, lambda_):\n",
    "    J_history = []\n",
    "    w=initial_w\n",
    "    b=initial_b\n",
    "\n",
    "\n",
    "    for i in range(num_iterations):\n",
    "        #dj_db, dj_dw = gradient_function(X, y, w, b, lambda_)\n",
    "        dj_db, dj_dw = compute_gradient_reg(X_mapped, y_train, w, b, lambda_)\n",
    "\n",
    "        w -= alpha * dj_dw\n",
    "        b -= alpha * dj_db\n",
    "\n",
    "        if i % 100 == 0:\n",
    "            cost = compute_cost_reg(X_mapped, y_train, w, b, lambda_)\n",
    "            J_history.append(cost)\n",
    "            print(f\"Iteration {i:4}: Cost {cost:8.4f}\")\n",
    "\n",
    "    return w, b, J_history, _\n",
    "\n",
    "np.random.seed(1)\n",
    "initial_w = np.random.rand(X_mapped.shape[1])-0.5\n",
    "initial_b = 1.\n",
    "lambda_ = 0.01;\n",
    "num_iterations = 20000\n",
    "alpha = 0.01\n",
    "\n",
    "\n",
    "w,b, J_history,_ = gradient_descent(X_mapped, y_train, initial_w, initial_b,\n",
    "                                    compute_cost_reg, compute_gradient_reg,\n",
    "                                    alpha, num_iterations, lambda_)\n"
   ]
  },
  {
   "cell_type": "code",
   "execution_count": 82,
   "metadata": {},
   "outputs": [],
   "source": [
    "#plot decision boundary\n",
    "def plot_decision_boundary(w,b,X,y):\n",
    "#write your code\n",
    "   plot_data(X[:, 0:2], y)\n",
    "\n",
    "   if X.shape[1] <= 2:\n",
    "        plot_x = np.array([min(X[:, 0]), max(X[:, 0])])\n",
    "        plot_y = (-1. / w[1]) * (w[0] * plot_x + b)\n",
    "\n",
    "        plt.plot(plot_x, plot_y, c=\"b\")\n",
    "\n",
    "   else:\n",
    "        u = np.linspace(-1, 1.5, 50)\n",
    "        v = np.linspace(-1, 1.5, 50)\n",
    "\n",
    "        z = np.zeros((len(u), len(v)))\n",
    "\n",
    "\n",
    "        for i in range(len(u)):\n",
    "            for j in range(len(v)):\n",
    "                z[i,j] = sigmoid(np.dot(map_feature(u[i], v[j]), w) + b)\n",
    "\n",
    "\n",
    "        z = z.T\n",
    "\n",
    "\n",
    "        plt.contour(u,v,z, levels = [0.5],colors=\"g\")\n",
    "\n",
    "\n",
    "\n"
   ]
  },
  {
   "cell_type": "code",
   "execution_count": 83,
   "metadata": {},
   "outputs": [
    {
     "name": "stderr",
     "output_type": "stream",
     "text": [
      "C:\\Users\\Saurabh\\AppData\\Local\\Temp\\ipykernel_29452\\303783473.py:21: DeprecationWarning: Conversion of an array with ndim > 0 to a scalar is deprecated, and will error in future. Ensure you extract a single element from your array before performing this operation. (Deprecated NumPy 1.25.)\n",
      "  z[i,j] = sigmoid(np.dot(map_feature(u[i], v[j]), w) + b)\n"
     ]
    },
    {
     "data": {
      "image/png": "[encoded data removed]",
      "text/plain": [
       "<Figure size 640x480 with 1 Axes>"
      ]
     },
     "metadata": {},
     "output_type": "display_data"
    }
   ],
   "source": [
    "plot_decision_boundary(w, b, X_mapped, y_train)"
   ]
  },
  {
   "cell_type": "code",
   "execution_count": 84,
   "metadata": {},
   "outputs": [],
   "source": [
    "#predict your training model\n",
    "def predict(X, w, b):\n",
    "    m,n=X.shape\n",
    "    p=np.zeros(m)\n",
    "  #write your code\n",
    "    for i in range(m):\n",
    "        z = np.dot(X[i], w) + b\n",
    "        p[i] = sigmoid(z) >= 0.5\n",
    "\n",
    "\n",
    "\n",
    "\n",
    "    return p"
   ]
  },
  {
   "cell_type": "code",
   "execution_count": 85,
   "metadata": {},
   "outputs": [
    {
     "name": "stdout",
     "output_type": "stream",
     "text": [
      "Accuracy of training model: 86.170213\n"
     ]
    }
   ],
   "source": [
    "p = predict(X_mapped, w, b)\n",
    "\n",
    "print('Accuracy of training model: %f'%(np.mean(p == y_train) * 100))"
   ]
  },
  {
   "cell_type": "code",
   "execution_count": null,
   "metadata": {},
   "outputs": [],
   "source": []
  }
 ],
 "metadata": {
  "kernelspec": {
   "display_name": "Python 3",
   "language": "python",
   "name": "python3"
  },
  "language_info": {
   "codemirror_mode": {
    "name": "ipython",
    "version": 3
   },
   "file_extension": ".py",
   "mimetype": "text/x-python",
   "name": "python",
   "nbconvert_exporter": "python",
   "pygments_lexer": "ipython3",
   "version": "3.11.4"
  }
 },
 "nbformat": 4,
 "nbformat_minor": 2
}
