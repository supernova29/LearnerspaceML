{
 "cells": [
  {
   "cell_type": "code",
   "execution_count": 16,
   "metadata": {},
   "outputs": [],
   "source": [
    "import numpy as np\n",
    "import pandas as pd\n",
    "import matplotlib.pyplot as plt\n",
    "\n",
    "# Aim is to predict the marks of students of the test data"
   ]
  },
  {
   "cell_type": "code",
   "execution_count": 17,
   "metadata": {},
   "outputs": [
    {
     "name": "stdout",
     "output_type": "stream",
     "text": [
      "[[  0   1   2 ...   6  18 118]\n",
      " [  1   1   2 ...   7  19 107]\n",
      " [  1   1   3 ...   5  18 108]\n",
      " ...\n",
      " [  1   1   2 ...   5  17 123]\n",
      " [  1   0   1 ...   8  17 104]\n",
      " [  1   1   1 ...   6  18 128]]\n"
     ]
    }
   ],
   "source": [
    "# Use the file namd 'training data' to train the model\n",
    "\n",
    "data = pd.read_excel('Training data.xlsx')\n",
    "x_train = np.array(data.iloc[:,0:8])\n",
    "y_train = np.array(data.iloc[:,8]).reshape(-1,1)\n",
    "\n",
    "# Try plotting y_train with different features\n",
    "# To get an idea whether to add some features or not\n",
    "# Add some features if required in x_train\n",
    "\n",
    "# Also do label encoding for features not represented in numbers\n",
    "# refer the link if not know : https://youtu.be/589nCGeWG1w?si=t2Wa7LgbUOO4RooM\n",
    "\n",
    "def feature_changing(x_train):\n",
    "  # ---------\n",
    "    # Your code here\n",
    "    columns_to_drop = ['sex' , 'age']\n",
    "    x_train = pd.DataFrame(x_train , columns=['internet' , 'sex' , 'traveltime' , 'studytime' , 'freetime' , 'absences' , 'age' , 'iq'])\n",
    "    x_train = x_train.replace({'yes':1 , 'no':0})\n",
    "    x_train = x_train.replace({'M':1 , 'F':0})\n",
    "  # ---------\n",
    "\n",
    "    return np.array(x_train.iloc[:,0:8])\n",
    "\n",
    "x_train = feature_changing(x_train)\n",
    "\n",
    "print(x_train)"
   ]
  },
  {
   "cell_type": "code",
   "execution_count": 18,
   "metadata": {},
   "outputs": [],
   "source": [
    "def z_score(x_train):\n",
    "\n",
    "  # ---------\n",
    "    # write the code for feature scaling here\n",
    "    # Your code here\n",
    "    # Calculate the mean and standard deviation for each column\n",
    "    x_mean = x_train.mean(axis=0)\n",
    "    x_std = x_train.std(axis=0)\n",
    "\n",
    "    # Calculate the z-score for each value in the DataFrame\n",
    "    x_train = (x_train - x_mean) / x_std\n",
    "    # ---------\n",
    "\n",
    "    return x_train,x_std,x_mean"
   ]
  },
  {
   "cell_type": "code",
   "execution_count": 19,
   "metadata": {},
   "outputs": [],
   "source": [
    "def cost(x_train, y_train, w, b):\n",
    "\n",
    "    # ---------\n",
    "    # Your code here\n",
    "    # Use mean square error as cost function\n",
    "    # return cost\n",
    "    # Number of training examples\n",
    "  m = x_train.shape[0]\n",
    "\n",
    "    # Compute the predictions\n",
    "  predictions = np.dot(x_train, w) + b\n",
    "\n",
    "    # Compute the squared differences\n",
    "\n",
    "    # Compute the mean of the squared differences\n",
    "  loss = np.mean((predictions - y_train) ** 2)\n",
    "\n",
    "  return loss\n",
    "  # ---------\n",
    "\n"
   ]
  },
  {
   "cell_type": "code",
   "execution_count": 20,
   "metadata": {},
   "outputs": [],
   "source": [
    "def gradient_descent(x_train,y_train,w,b,learning_rate=0.01 , num_iterations=1):\n",
    "\n",
    "  # ---------\n",
    "    # Your code here\n",
    "    # Choose learning rate yourself\n",
    "    m = x_train.shape[0]\n",
    "\n",
    "    for i in range(num_iterations):\n",
    "        # Compute predictions\n",
    "        predictions = np.dot(x_train, w) + b\n",
    "\n",
    "        # Compute errors\n",
    "        errors = predictions - y_train\n",
    "\n",
    "        # Compute gradients\n",
    "        dw = (1/m) * np.dot(x_train.T, errors)\n",
    "        db = (1/m) * np.sum(errors)\n",
    "\n",
    "        # Update parameters\n",
    "        w -= learning_rate * dw\n",
    "        b -= learning_rate * db\n",
    "  # ---------\n",
    "\n",
    "    return w,b"
   ]
  },
  {
   "cell_type": "code",
   "execution_count": 21,
   "metadata": {},
   "outputs": [
    {
     "name": "stdout",
     "output_type": "stream",
     "text": [
      "Congratulations, your accuracy is 100.0%\n"
     ]
    }
   ],
   "source": [
    "x_train = x_train.astype(np.float64)\n",
    "x_train,x_std,x_mean = z_score(x_train)\n",
    "\n",
    "np.random.seed(2147483647)\n",
    "w = np.random.randn(x_train.shape[1],1)\n",
    "b = np.random.randn(1)\n",
    "\n",
    "# count = 0\n",
    "old_cost = 0\n",
    "\n",
    "while abs(old_cost - cost(x_train,y_train,w,b))>0.00001:\n",
    "  old_cost = cost(x_train,y_train,w,b)\n",
    "  w,b = gradient_descent(x_train,y_train,w,b)\n",
    "  # count +=1\n",
    "  #print(old_cost)\n",
    "\n",
    "x_predict = pd.read_excel('Test data.xlsx').iloc[:,:8].to_numpy()\n",
    "x_predict = feature_changing(x_predict)\n",
    "x_predict = (x_predict - x_mean)/x_std\n",
    "ans = pd.read_excel('Test data.xlsx').iloc[:,8].to_numpy()\n",
    "\n",
    "y_predict = np.dot(x_predict,w) + b\n",
    "\n",
    "accuracy = 0\n",
    "for dim in range(len(ans)):\n",
    "  if abs(y_predict[dim]-ans[dim])<0.5: # do not change the tolerance as you'll be checked on +- 0.5 error only\n",
    "    accuracy += 1\n",
    "accuracy = round(accuracy*100/200.0,2)\n",
    "ok = 'Congratulations' if accuracy>95 else 'Optimization required'\n",
    "print(f\"{ok}, your accuracy is {accuracy}%\")"
   ]
  }
 ],
 "metadata": {
  "kernelspec": {
   "display_name": "Python 3",
   "language": "python",
   "name": "python3"
  },
  "language_info": {
   "codemirror_mode": {
    "name": "ipython",
    "version": 3
   },
   "file_extension": ".py",
   "mimetype": "text/x-python",
   "name": "python",
   "nbconvert_exporter": "python",
   "pygments_lexer": "ipython3",
   "version": "3.11.4"
  }
 },
 "nbformat": 4,
 "nbformat_minor": 2
}
